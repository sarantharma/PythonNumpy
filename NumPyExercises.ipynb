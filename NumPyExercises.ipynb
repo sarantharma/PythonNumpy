{
 "cells": [
  {
   "cell_type": "code",
   "execution_count": 1,
   "id": "3706c523",
   "metadata": {},
   "outputs": [],
   "source": [
    "#Import Numpy as np\n",
    "import numpy as np"
   ]
  },
  {
   "cell_type": "code",
   "execution_count": 2,
   "id": "6cb7c8a1",
   "metadata": {},
   "outputs": [
    {
     "name": "stdout",
     "output_type": "stream",
     "text": [
      "[0 1 2 3 4 5 6 7 8 9]\n"
     ]
    }
   ],
   "source": [
    "#Create a 1D array of numbers from 0 to 9\n",
    "arr_0_9 = np.arange(10)\n",
    "print(arr_0_9)"
   ]
  },
  {
   "cell_type": "code",
   "execution_count": 3,
   "id": "b4af375c",
   "metadata": {},
   "outputs": [
    {
     "name": "stdout",
     "output_type": "stream",
     "text": [
      "[[ True  True  True]\n",
      " [ True  True  True]\n",
      " [ True  True  True]]\n"
     ]
    }
   ],
   "source": [
    "#Create a 3×3 numpy array of all True’s\n",
    "arr_trues = np.full((3,3), True, dtype=bool)\n",
    "print(arr_trues)"
   ]
  },
  {
   "cell_type": "code",
   "execution_count": 5,
   "id": "b44d7f07",
   "metadata": {},
   "outputs": [
    {
     "name": "stdout",
     "output_type": "stream",
     "text": [
      "[ 1  5  7 89 99 77]\n"
     ]
    }
   ],
   "source": [
    "#Extract all odd numbers\n",
    "arr2 = np.array([0, 1,2,5,4,6,7,89,76,90,99,77])\n",
    "arr_odds = arr2[arr2%2 == 1]\n",
    "print(arr_odds)"
   ]
  },
  {
   "cell_type": "code",
   "execution_count": 12,
   "id": "ee7c3499",
   "metadata": {},
   "outputs": [
    {
     "name": "stdout",
     "output_type": "stream",
     "text": [
      "[-1 -1 -1 -1 -1 -1]\n"
     ]
    }
   ],
   "source": [
    "#Replace all odd numbers in arr with -1\n",
    "arr_odds[arr_odds%2==1] = -1\n",
    "print(arr_odds)"
   ]
  },
  {
   "cell_type": "code",
   "execution_count": 13,
   "id": "6964d788",
   "metadata": {},
   "outputs": [
    {
     "name": "stdout",
     "output_type": "stream",
     "text": [
      "[0 1 2 3 4 5 6 7 8 9]\n",
      "[ 0 -1  2 -1  4 -1  6 -1  8 -1]\n"
     ]
    }
   ],
   "source": [
    "#Replace all odd numbers in arr with -1 without changing\n",
    "arr = np.arange(10)\n",
    "out = np.where(arr % 2 == 1, -1, arr)\n",
    "print(arr)\n",
    "print(out)"
   ]
  },
  {
   "cell_type": "code",
   "execution_count": 21,
   "id": "60e45a6b",
   "metadata": {},
   "outputs": [
    {
     "name": "stdout",
     "output_type": "stream",
     "text": [
      "[[ 0  1  2  3]\n",
      " [ 4  5  6  7]\n",
      " [ 8  9 10 11]]\n"
     ]
    }
   ],
   "source": [
    "#Convert a 1D array to a 2D array with 2 rows\n",
    "arr = np.arange(12)\n",
    "arr = arr.reshape(3,-1)\n",
    "print(arr)"
   ]
  },
  {
   "cell_type": "code",
   "execution_count": 23,
   "id": "54a5e250",
   "metadata": {},
   "outputs": [
    {
     "name": "stdout",
     "output_type": "stream",
     "text": [
      "[ 2  4 67]\n"
     ]
    }
   ],
   "source": [
    "#et the common items between arr1 and arr2\n",
    "arr1 = np.array([1,2,3,2,3,4,3,4,5,6,67])\n",
    "arr2 = np.array([7,2,10,2,67,7,4,9,4,9,8])\n",
    "print(np.intersect1d(arr1,arr2))\n"
   ]
  },
  {
   "cell_type": "code",
   "execution_count": 24,
   "id": "3bc237e3",
   "metadata": {},
   "outputs": [
    {
     "name": "stdout",
     "output_type": "stream",
     "text": [
      "[1 3 5 6]\n"
     ]
    }
   ],
   "source": [
    "#From array arr1 remove all items present in array arr2\n",
    "print(np.setdiff1d(arr1,arr2))"
   ]
  },
  {
   "cell_type": "code",
   "execution_count": 25,
   "id": "203d969d",
   "metadata": {},
   "outputs": [
    {
     "data": {
      "text/plain": [
       "(array([1, 3, 5, 7]),)"
      ]
     },
     "execution_count": 25,
     "metadata": {},
     "output_type": "execute_result"
    }
   ],
   "source": [
    "#Get the positions where elements of a and b match\n",
    "a = np.array([1,2,3,2,3,4,3,4,5,6])\n",
    "b = np.array([7,2,10,2,7,4,9,4,9,8])\n",
    "np.where(a == b)"
   ]
  },
  {
   "cell_type": "code",
   "execution_count": null,
   "id": "6f2b41b0",
   "metadata": {},
   "outputs": [],
   "source": []
  }
 ],
 "metadata": {
  "kernelspec": {
   "display_name": "Python 3 (ipykernel)",
   "language": "python",
   "name": "python3"
  },
  "language_info": {
   "codemirror_mode": {
    "name": "ipython",
    "version": 3
   },
   "file_extension": ".py",
   "mimetype": "text/x-python",
   "name": "python",
   "nbconvert_exporter": "python",
   "pygments_lexer": "ipython3",
   "version": "3.9.7"
  }
 },
 "nbformat": 4,
 "nbformat_minor": 5
}
